{
 "cells": [
  {
   "cell_type": "markdown",
   "metadata": {},
   "source": [
    "# types review: list, dicts, iterators"
   ]
  },
  {
   "cell_type": "code",
   "execution_count": 1,
   "metadata": {},
   "outputs": [
    {
     "data": {
      "text/plain": [
       "[1, 2, 3]"
      ]
     },
     "execution_count": 1,
     "metadata": {},
     "output_type": "execute_result"
    }
   ],
   "source": [
    "lista = [1, 2, 3, 4, 5]\n",
    "        [0, 1, 2, 3, 4]\n",
    "# N elementos de la lista empezando por 0\n",
    "lista[:3] "
   ]
  },
  {
   "cell_type": "code",
   "execution_count": 2,
   "metadata": {},
   "outputs": [
    {
     "data": {
      "text/plain": [
       "4"
      ]
     },
     "execution_count": 2,
     "metadata": {},
     "output_type": "execute_result"
    }
   ],
   "source": [
    "# recuperar un elemento en concreto\n",
    "lista[3] "
   ]
  },
  {
   "cell_type": "code",
   "execution_count": 3,
   "metadata": {},
   "outputs": [
    {
     "data": {
      "text/plain": [
       "[4, 5]"
      ]
     },
     "execution_count": 3,
     "metadata": {},
     "output_type": "execute_result"
    }
   ],
   "source": [
    "# N elementos de la lista empezando por N índice\n",
    "lista[3:]"
   ]
  },
  {
   "cell_type": "code",
   "execution_count": 4,
   "metadata": {},
   "outputs": [
    {
     "data": {
      "text/plain": [
       "[3, 4]"
      ]
     },
     "execution_count": 4,
     "metadata": {},
     "output_type": "execute_result"
    }
   ],
   "source": [
    "# N elementos de la lista empezando por N índice hasta M índice\n",
    "lista[2:4]"
   ]
  },
  {
   "cell_type": "code",
   "execution_count": 19,
   "metadata": {},
   "outputs": [
    {
     "data": {
      "text/plain": [
       "[8, 7, 6, 1]"
      ]
     },
     "execution_count": 19,
     "metadata": {},
     "output_type": "execute_result"
    }
   ],
   "source": [
    "lista = [1, 2, 3, 4, 5]\n",
    "lista2 = [6, 7, 8]\n",
    "lista2.append(1)\n",
    "\n",
    "\n",
    "lista2"
   ]
  },
  {
   "cell_type": "code",
   "execution_count": 28,
   "metadata": {},
   "outputs": [
    {
     "name": "stdout",
     "output_type": "stream",
     "text": [
      "80\n",
      "128\n"
     ]
    }
   ],
   "source": [
    "import sys\n",
    "lista = [1, 2, 3]\n",
    "tupla1 = (1, 2, 3)\n",
    "\n",
    "print(sys.getsizeof(tupla1))\n",
    "print(sys.getsizeof(lista2))\n"
   ]
  },
  {
   "cell_type": "code",
   "execution_count": 77,
   "metadata": {},
   "outputs": [
    {
     "data": {
      "text/plain": [
       "[0, 1, 2, 3, 4]"
      ]
     },
     "execution_count": 77,
     "metadata": {},
     "output_type": "execute_result"
    }
   ],
   "source": [
    "import sys\n",
    "lista = [1, 2, 3, 4, 5, 6, 7, 8, 9, 10, 1, 2, 3, 4, 5, 6, 7, 8, 9, 10]\n",
    "tupla1 = (1, 2, 3)\n",
    "set1 = {1, 2, 3,}\n",
    "\n",
    "# print(sys.getsizeof(lista))\n",
    "# print(sys.getsizeof(tupla1))\n",
    "# print(sys.getsizeof(set1))\n",
    "\n",
    "iterador"
   ]
  },
  {
   "cell_type": "code",
   "execution_count": 78,
   "metadata": {},
   "outputs": [
    {
     "ename": "SyntaxError",
     "evalue": "invalid syntax (<ipython-input-78-443e40d30a1e>, line 1)",
     "output_type": "error",
     "traceback": [
      "\u001b[0;36m  File \u001b[0;32m\"<ipython-input-78-443e40d30a1e>\"\u001b[0;36m, line \u001b[0;32m1\u001b[0m\n\u001b[0;31m    def get_data()\u001b[0m\n\u001b[0m                  ^\u001b[0m\n\u001b[0;31mSyntaxError\u001b[0m\u001b[0;31m:\u001b[0m invalid syntax\n"
     ]
    }
   ],
   "source": [
    "class DatosDeMiWeb():\n",
    "    name\n",
    "    surname\n",
    "    age\n",
    "\n",
    "    \n",
    "data = {\n",
    "    \"name\": {\n",
    "        \"name\": \"Persona\", \n",
    "        \"surname\": \"apellido persona\", \n",
    "        \"age\": {\n",
    "            \"name\": \"Persona\", \n",
    "            \"surname\": \"apellido persona\", \n",
    "            \"age\": 13\n",
    "        }\n",
    "    }, \n",
    "\n",
    "}\n",
    "\n",
    "name = data.get(\"name\")\n",
    "age = name.get(\"age\")\n",
    "surname = age.get(\"surname\")\n",
    "\n",
    "def get_data(data_dict):\n",
    "    guardar_data(data_dict)\n",
    "\n",
    "# www.estonoexiste.com/api/users\n",
    "\n",
    "# [{\n",
    "#     \"id\": 1,\n",
    "#     \"name\": \"admin\"\n",
    "# },\n",
    "# {\n",
    "#     \"id\": 2,\n",
    "#     \"name\": \"pepe\"\n",
    "# }]\n",
    "\n",
    "def get_data_from_url():\n",
    "    pass\n",
    "\n",
    "\n",
    "data = get_data_from_url(\"www.estonoexiste.com/api/users\")\n",
    "\n",
    "\n"
   ]
  },
  {
   "cell_type": "code",
   "execution_count": 171,
   "metadata": {},
   "outputs": [
    {
     "name": "stdout",
     "output_type": "stream",
     "text": [
      "ARGS: ()\n",
      "kwargs: {'name': 'Ayuso', 'apodo': 'confinator'}\n",
      "ARGS: ()\n",
      "kwargs: {'a': 'b', 'parametro1': 'valor1'}\n",
      "ARGS: (1, 2, 3)\n",
      "kwargs: {}\n",
      "ARGS: (1, 2, 3)\n",
      "kwargs: {}\n"
     ]
    }
   ],
   "source": [
    "def mifuncion(*args, **kwargs):\n",
    "    print(f\"ARGS: {args}\")\n",
    "    print(f\"kwargs: {kwargs}\")\n",
    "\n",
    "    \n",
    "data_user = {\n",
    "    \"name\": \"Ayuso\"\n",
    "}\n",
    "    \n",
    "if data_user[\"name\"] == \"Ayuso\":\n",
    "    data_user[\"apodo\"] = \"confinator\"\n",
    "    \n",
    "mifuncion(**data_user)\n",
    "mifuncion(name=\"Mi nombre\")\n",
    "\n",
    "mifuncion(a=\"b\", parametro1=\"valor1\")\n",
    "\n",
    "\n",
    "mifuncion(*(1, 2, 3))\n",
    "\n",
    "mifuncion(1, 2, 3)"
   ]
  },
  {
   "cell_type": "markdown",
   "metadata": {},
   "source": [
    "# Control de errores"
   ]
  },
  {
   "cell_type": "code",
   "execution_count": 196,
   "metadata": {},
   "outputs": [
    {
     "name": "stdout",
     "output_type": "stream",
     "text": [
      "el parametro está mal. codigo de erro 1234 <built-in method with_traceback of PeroQueHacesLoco object at 0x7f3bc03a0050>\n"
     ]
    }
   ],
   "source": [
    "class PeroQueHacesLoco(Exception):\n",
    "    codigo_de_error = 1234\n",
    "\n",
    "def estofalla(parametro):\n",
    "    \n",
    "    if parametro < 0:\n",
    "        raise PeroQueHacesLoco\n",
    "    print(estofalla)\n",
    "\n",
    "try:\n",
    "    estofalla(-1)\n",
    "except PeroQueHacesLoco as e:\n",
    "    print(f\"el parametro está mal. codigo de erro {e.codigo_de_error} {e.with_traceback}\")"
   ]
  },
  {
   "cell_type": "markdown",
   "metadata": {},
   "source": [
    "# Generadores"
   ]
  },
  {
   "cell_type": "code",
   "execution_count": null,
   "metadata": {},
   "outputs": [],
   "source": [
    "import sys\n",
    "# generador = (i for i in range(5))\n",
    "\n",
    "\n",
    "def range_copia(valor):\n",
    "    i = 0\n",
    "    while i < valor:\n",
    "        yield i\n",
    "        i = i + 1\n",
    "\n",
    "def migenerador():\n",
    "    i = 0\n",
    "    while True:\n",
    "        i = i + 1\n",
    "        yield i\n",
    "\n",
    "migenerador_func = range_copia(10)\n",
    "print(sys.getsizeof(migenerador_func))\n",
    "print([i for i in migenerador_func])\n",
    "# print([i for i in migenerador_func])\n",
    "next(migenerador_func)"
   ]
  },
  {
   "cell_type": "markdown",
   "metadata": {},
   "source": [
    "# List comprehensions"
   ]
  },
  {
   "cell_type": "code",
   "execution_count": 76,
   "metadata": {},
   "outputs": [
    {
     "name": "stdout",
     "output_type": "stream",
     "text": [
      "128\n",
      "[0, 1, 2, 3, 4, 5, 6, 7, 8, 9]\n"
     ]
    },
    {
     "ename": "StopIteration",
     "evalue": "",
     "output_type": "error",
     "traceback": [
      "\u001b[0;31m---------------------------------------------------------------------------\u001b[0m",
      "\u001b[0;31mStopIteration\u001b[0m                             Traceback (most recent call last)",
      "\u001b[0;32m<ipython-input-76-d1efa1cdd598>\u001b[0m in \u001b[0;36m<module>\u001b[0;34m\u001b[0m\n\u001b[1;32m     19\u001b[0m \u001b[0mprint\u001b[0m\u001b[0;34m(\u001b[0m\u001b[0;34m[\u001b[0m\u001b[0mi\u001b[0m \u001b[0;32mfor\u001b[0m \u001b[0mi\u001b[0m \u001b[0;32min\u001b[0m \u001b[0mmigenerador_func\u001b[0m\u001b[0;34m]\u001b[0m\u001b[0;34m)\u001b[0m\u001b[0;34m\u001b[0m\u001b[0;34m\u001b[0m\u001b[0m\n\u001b[1;32m     20\u001b[0m \u001b[0;31m# print([i for i in migenerador_func])\u001b[0m\u001b[0;34m\u001b[0m\u001b[0;34m\u001b[0m\u001b[0;34m\u001b[0m\u001b[0m\n\u001b[0;32m---> 21\u001b[0;31m \u001b[0mnext\u001b[0m\u001b[0;34m(\u001b[0m\u001b[0mmigenerador_func\u001b[0m\u001b[0;34m)\u001b[0m\u001b[0;34m\u001b[0m\u001b[0;34m\u001b[0m\u001b[0m\n\u001b[0m",
      "\u001b[0;31mStopIteration\u001b[0m: "
     ]
    }
   ],
   "source": []
  },
  {
   "cell_type": "markdown",
   "metadata": {},
   "source": [
    "# Typing"
   ]
  },
  {
   "cell_type": "code",
   "execution_count": null,
   "metadata": {},
   "outputs": [],
   "source": []
  },
  {
   "cell_type": "markdown",
   "metadata": {},
   "source": [
    "# Decorators"
   ]
  },
  {
   "cell_type": "code",
   "execution_count": 99,
   "metadata": {},
   "outputs": [
    {
     "name": "stdout",
     "output_type": "stream",
     "text": [
      "Help on function mi_funcion2 in module __main__:\n",
      "\n",
      "mi_funcion2(param1, param2)\n",
      "    Esta es mi funcion2\n",
      "\n"
     ]
    }
   ],
   "source": [
    "from functools import wraps\n",
    "\n",
    "def mi_funcion(param1, param2):\n",
    "    return f\"hola a {param1} y {param2}\"\n",
    "\n",
    "\n",
    "def logger(funcion_a_decorar):\n",
    "    \"\"\"Soy un decorador!\"\"\"\n",
    "    @wraps(funcion_a_decorar)\n",
    "    def wrapper(*args, **kwargs):\n",
    "        \"\"\"Soy el wrapper del decorador!\"\"\"\n",
    "        print(f\"la funcion {funcion_a_decorar.__name__} ha sido llamada con los parámetros posicionales {args} y con los nombre {kwargs}\")\n",
    "        # y toda la magia que queramos\n",
    "        return funcion_a_decorar(*args, **kwargs)\n",
    "    return wrapper\n",
    "\n",
    "\n",
    "# mi_funcion_decorada = logger(mi_funcion)\n",
    "# print(mi_funcion(param1=\"1\", param2=\"2\"))\n",
    "# print(mi_funcion_decorada(\"1\", \"2\"))\n",
    "\n",
    "@logger\n",
    "def mi_funcion2(param1, param2):\n",
    "    \"\"\"Esta es mi funcion2\"\"\"\n",
    "    return f\"hola a {param1} y {param2}\"\n",
    "\n",
    "\n",
    "help(mi_funcion2)"
   ]
  },
  {
   "cell_type": "markdown",
   "metadata": {},
   "source": [
    "# Classes"
   ]
  },
  {
   "cell_type": "code",
   "execution_count": 123,
   "metadata": {},
   "outputs": [
    {
     "data": {
      "text/plain": [
       "4"
      ]
     },
     "execution_count": 123,
     "metadata": {},
     "output_type": "execute_result"
    }
   ],
   "source": [
    "# atributos\n",
    "\n",
    "class MiModelo:\n",
    "    atributo1 = \"1\"\n",
    "    \n",
    "    @classmethod\n",
    "    def mi_metodo1(cls, parametro):\n",
    "        cls.__name__\n",
    "        cls.atributo1 = parametro\n",
    "  \n",
    "    @staticmethod\n",
    "    def mi_metodo_statico(parametro):\n",
    "        return parametro\n",
    "\n",
    "    def mi_metodo2(self, parametro):\n",
    "        self.parametro = self.parametro + parametro\n",
    "        return self.parametro\n",
    "\n",
    "    def mi_metodo3(self, parametro):\n",
    "        self.__class__\n",
    "        self.atributo1 = parametro\n",
    "\n",
    "    @property\n",
    "    def atributo1_entero(self):\n",
    "        return int(self.atributo1)\n",
    "  \n",
    "    @atributo1_entero.setter\n",
    "    def atributo1_entero(self, id_user):\n",
    "        # response = self.geturl(f\"www.noexiste.com/api/users/{id_user}\")\n",
    "        self.atributo1 = id_user\n",
    "\n",
    "# MiClase.atributo1\n",
    "\n",
    "mi_objeto = MiModelo()\n",
    "\n",
    "mi_objeto.atributo1\n",
    "mi_objeto.mi_metodo1(\"5\")\n",
    "mi_objeto.atributo1\n",
    "mi_objeto.atributo1_entero = \"10\"\n",
    "mi_objeto.atributo1_entero\n",
    "\n",
    "# MiModelo.mi_metodo1(\"1\")\n",
    "# MiModelo.mi_metodo2(\"2\")\n",
    "mi_objeto.mi_metodo_statico2(2)"
   ]
  },
  {
   "cell_type": "code",
   "execution_count": 175,
   "metadata": {},
   "outputs": [
    {
     "name": "stdout",
     "output_type": "stream",
     "text": [
      "args: ()\n",
      "kwargs: {'a': 'b'}\n",
      "parametro1: 1\n",
      "parametro1: 3\n"
     ]
    },
    {
     "data": {
      "text/plain": [
       "<bound method MiModelo.mi_metodo1 of <__main__.MiModelo object at 0x7f3bc0cd6090>>"
      ]
     },
     "execution_count": 175,
     "metadata": {},
     "output_type": "execute_result"
    }
   ],
   "source": [
    "# Constructores\n",
    "class MiPadre:\n",
    "    def __init__(self, *args, **kwargs):\n",
    "        print(f\"args: {args}\")\n",
    "        print(f\"kwargs: {kwargs}\")\n",
    "\n",
    "\n",
    "class MiModelo(MiPadre):\n",
    "    atributo1 = \"1\"\n",
    "    \n",
    "    def __init__(self, parametro1, parametro2=\"\", *args, **kwargs):\n",
    "        super().__init__(*args, **{\"a\": \"b\"})\n",
    "        print(f\"parametro1: {parametro1}\")\n",
    "        print(f\"parametro1: {parametro2}\")\n",
    "        \n",
    "    \n",
    "    \n",
    "    def mi_metodo1(cls, parametro, parametro2=\"\", parametro3=None, parametro4=[]):\n",
    "        cls.__name__\n",
    "        cls.atributo1 = parametro\n",
    "\n",
    "        \n",
    "\n",
    "objeto = MiModelo(\"1\", parametro3=\"2\", parametro2=\"3\")\n",
    "objeto.mi_metodo1"
   ]
  },
  {
   "cell_type": "markdown",
   "metadata": {},
   "source": [
    "# Abstract Classes"
   ]
  },
  {
   "cell_type": "code",
   "execution_count": null,
   "metadata": {},
   "outputs": [],
   "source": []
  },
  {
   "cell_type": "markdown",
   "metadata": {},
   "source": [
    "# Magic Methods"
   ]
  },
  {
   "cell_type": "code",
   "execution_count": null,
   "metadata": {},
   "outputs": [],
   "source": []
  }
 ],
 "metadata": {
  "kernelspec": {
   "display_name": "Python 3",
   "language": "python",
   "name": "python3"
  },
  "language_info": {
   "codemirror_mode": {
    "name": "ipython",
    "version": 3
   },
   "file_extension": ".py",
   "mimetype": "text/x-python",
   "name": "python",
   "nbconvert_exporter": "python",
   "pygments_lexer": "ipython3",
   "version": "3.7.7"
  }
 },
 "nbformat": 4,
 "nbformat_minor": 4
}
