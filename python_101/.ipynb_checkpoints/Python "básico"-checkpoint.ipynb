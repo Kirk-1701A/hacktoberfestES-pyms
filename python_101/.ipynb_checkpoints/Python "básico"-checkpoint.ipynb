{
 "cells": [
  {
   "cell_type": "markdown",
   "metadata": {},
   "source": [
    "# types review: list, dicts, iterators"
   ]
  },
  {
   "cell_type": "code",
   "execution_count": 1,
   "metadata": {},
   "outputs": [
    {
     "data": {
      "text/plain": [
       "[1, 2, 3]"
      ]
     },
     "execution_count": 1,
     "metadata": {},
     "output_type": "execute_result"
    }
   ],
   "source": [
    "lista = [1, 2, 3, 4, 5]\n",
    "        [0, 1, 2, 3, 4]\n",
    "# N elementos de la lista empezando por 0\n",
    "lista[:3] "
   ]
  },
  {
   "cell_type": "code",
   "execution_count": 2,
   "metadata": {},
   "outputs": [
    {
     "data": {
      "text/plain": [
       "4"
      ]
     },
     "execution_count": 2,
     "metadata": {},
     "output_type": "execute_result"
    }
   ],
   "source": [
    "# recuperar un elemento en concreto\n",
    "lista[3] "
   ]
  },
  {
   "cell_type": "code",
   "execution_count": 3,
   "metadata": {},
   "outputs": [
    {
     "data": {
      "text/plain": [
       "[4, 5]"
      ]
     },
     "execution_count": 3,
     "metadata": {},
     "output_type": "execute_result"
    }
   ],
   "source": [
    "# N elementos de la lista empezando por N índice\n",
    "lista[3:]"
   ]
  },
  {
   "cell_type": "code",
   "execution_count": 4,
   "metadata": {},
   "outputs": [
    {
     "data": {
      "text/plain": [
       "[3, 4]"
      ]
     },
     "execution_count": 4,
     "metadata": {},
     "output_type": "execute_result"
    }
   ],
   "source": [
    "# N elementos de la lista empezando por N índice hasta M índice\n",
    "lista[2:4]"
   ]
  },
  {
   "cell_type": "code",
   "execution_count": 19,
   "metadata": {},
   "outputs": [
    {
     "data": {
      "text/plain": [
       "[8, 7, 6, 1]"
      ]
     },
     "execution_count": 19,
     "metadata": {},
     "output_type": "execute_result"
    }
   ],
   "source": [
    "lista = [1, 2, 3, 4, 5]\n",
    "lista2 = [6, 7, 8]\n",
    "lista2.append(1)\n",
    "\n",
    "\n",
    "lista2"
   ]
  },
  {
   "cell_type": "code",
   "execution_count": 28,
   "metadata": {},
   "outputs": [
    {
     "name": "stdout",
     "output_type": "stream",
     "text": [
      "80\n",
      "128\n"
     ]
    }
   ],
   "source": [
    "import sys\n",
    "lista = [1, 2, 3]\n",
    "tupla1 = (1, 2, 3)\n",
    "\n",
    "print(sys.getsizeof(tupla1))\n",
    "print(sys.getsizeof(lista2))\n"
   ]
  },
  {
   "cell_type": "code",
   "execution_count": 77,
   "metadata": {},
   "outputs": [
    {
     "data": {
      "text/plain": [
       "[0, 1, 2, 3, 4]"
      ]
     },
     "execution_count": 77,
     "metadata": {},
     "output_type": "execute_result"
    }
   ],
   "source": [
    "import sys\n",
    "lista = [1, 2, 3, 4, 5, 6, 7, 8, 9, 10, 1, 2, 3, 4, 5, 6, 7, 8, 9, 10]\n",
    "tupla1 = (1, 2, 3)\n",
    "set1 = {1, 2, 3,}\n",
    "\n",
    "# print(sys.getsizeof(lista))\n",
    "# print(sys.getsizeof(tupla1))\n",
    "# print(sys.getsizeof(set1))\n",
    "\n",
    "iterador"
   ]
  },
  {
   "cell_type": "code",
   "execution_count": 78,
   "metadata": {},
   "outputs": [
    {
     "ename": "SyntaxError",
     "evalue": "invalid syntax (<ipython-input-78-443e40d30a1e>, line 1)",
     "output_type": "error",
     "traceback": [
      "\u001b[0;36m  File \u001b[0;32m\"<ipython-input-78-443e40d30a1e>\"\u001b[0;36m, line \u001b[0;32m1\u001b[0m\n\u001b[0;31m    def get_data()\u001b[0m\n\u001b[0m                  ^\u001b[0m\n\u001b[0;31mSyntaxError\u001b[0m\u001b[0;31m:\u001b[0m invalid syntax\n"
     ]
    }
   ],
   "source": [
    "class DatosDeMiWeb():\n",
    "    name\n",
    "    surname\n",
    "    age\n",
    "\n",
    "    \n",
    "data = {\n",
    "    \"name\": {\n",
    "        \"name\": \"Persona\", \n",
    "        \"surname\": \"apellido persona\", \n",
    "        \"age\": {\n",
    "            \"name\": \"Persona\", \n",
    "            \"surname\": \"apellido persona\", \n",
    "            \"age\": 13\n",
    "        }\n",
    "    }, \n",
    "\n",
    "}\n",
    "\n",
    "name = data.get(\"name\")\n",
    "age = name.get(\"age\")\n",
    "surname = age.get(\"surname\")\n",
    "\n",
    "def get_data(data_dict):\n",
    "    guardar_data(data_dict)\n",
    "\n",
    "# www.estonoexiste.com/api/users\n",
    "\n",
    "# [{\n",
    "#     \"id\": 1,\n",
    "#     \"name\": \"admin\"\n",
    "# },\n",
    "# {\n",
    "#     \"id\": 2,\n",
    "#     \"name\": \"pepe\"\n",
    "# }]\n",
    "\n",
    "def get_data_from_url():\n",
    "    pass\n",
    "\n",
    "\n",
    "data = get_data_from_url(\"www.estonoexiste.com/api/users\")\n",
    "\n",
    "\n"
   ]
  },
  {
   "cell_type": "markdown",
   "metadata": {},
   "source": [
    "# Control de errores"
   ]
  },
  {
   "cell_type": "code",
   "execution_count": null,
   "metadata": {},
   "outputs": [],
   "source": []
  },
  {
   "cell_type": "markdown",
   "metadata": {},
   "source": [
    "# Generadores"
   ]
  },
  {
   "cell_type": "code",
   "execution_count": null,
   "metadata": {},
   "outputs": [],
   "source": [
    "import sys\n",
    "# generador = (i for i in range(5))\n",
    "\n",
    "\n",
    "def range_copia(valor):\n",
    "    i = 0\n",
    "    while i < valor:\n",
    "        yield i\n",
    "        i = i + 1\n",
    "\n",
    "def migenerador():\n",
    "    i = 0\n",
    "    while True:\n",
    "        i = i + 1\n",
    "        yield i\n",
    "\n",
    "migenerador_func = range_copia(10)\n",
    "print(sys.getsizeof(migenerador_func))\n",
    "print([i for i in migenerador_func])\n",
    "# print([i for i in migenerador_func])\n",
    "next(migenerador_func)"
   ]
  },
  {
   "cell_type": "markdown",
   "metadata": {},
   "source": [
    "# List comprehensions"
   ]
  },
  {
   "cell_type": "code",
   "execution_count": 76,
   "metadata": {},
   "outputs": [
    {
     "name": "stdout",
     "output_type": "stream",
     "text": [
      "128\n",
      "[0, 1, 2, 3, 4, 5, 6, 7, 8, 9]\n"
     ]
    },
    {
     "ename": "StopIteration",
     "evalue": "",
     "output_type": "error",
     "traceback": [
      "\u001b[0;31m---------------------------------------------------------------------------\u001b[0m",
      "\u001b[0;31mStopIteration\u001b[0m                             Traceback (most recent call last)",
      "\u001b[0;32m<ipython-input-76-d1efa1cdd598>\u001b[0m in \u001b[0;36m<module>\u001b[0;34m\u001b[0m\n\u001b[1;32m     19\u001b[0m \u001b[0mprint\u001b[0m\u001b[0;34m(\u001b[0m\u001b[0;34m[\u001b[0m\u001b[0mi\u001b[0m \u001b[0;32mfor\u001b[0m \u001b[0mi\u001b[0m \u001b[0;32min\u001b[0m \u001b[0mmigenerador_func\u001b[0m\u001b[0;34m]\u001b[0m\u001b[0;34m)\u001b[0m\u001b[0;34m\u001b[0m\u001b[0;34m\u001b[0m\u001b[0m\n\u001b[1;32m     20\u001b[0m \u001b[0;31m# print([i for i in migenerador_func])\u001b[0m\u001b[0;34m\u001b[0m\u001b[0;34m\u001b[0m\u001b[0;34m\u001b[0m\u001b[0m\n\u001b[0;32m---> 21\u001b[0;31m \u001b[0mnext\u001b[0m\u001b[0;34m(\u001b[0m\u001b[0mmigenerador_func\u001b[0m\u001b[0;34m)\u001b[0m\u001b[0;34m\u001b[0m\u001b[0;34m\u001b[0m\u001b[0m\n\u001b[0m",
      "\u001b[0;31mStopIteration\u001b[0m: "
     ]
    }
   ],
   "source": []
  },
  {
   "cell_type": "markdown",
   "metadata": {},
   "source": [
    "# Typing"
   ]
  },
  {
   "cell_type": "code",
   "execution_count": null,
   "metadata": {},
   "outputs": [],
   "source": []
  },
  {
   "cell_type": "markdown",
   "metadata": {},
   "source": [
    "# Decorators"
   ]
  },
  {
   "cell_type": "code",
   "execution_count": 86,
   "metadata": {},
   "outputs": [
    {
     "name": "stdout",
     "output_type": "stream",
     "text": [
      "hola a 1 y 2\n",
      "la funcion mi_funcion ha sido llamada con los parámetros posicionales ('1', '2') y con los nombre {}\n",
      "hola a 1 y 2\n"
     ]
    }
   ],
   "source": [
    "def mi_funcion(param1, param2):\n",
    "    return f\"hola a {param1} y {param2}\"\n",
    "\n",
    "\n",
    "def logger(funcion_a_decorar):\n",
    "    def wrapper(*args, **kwargs):\n",
    "        print(f\"la funcion {funcion_a_decorar.__name__} ha sido llamada con los parámetros posicionales {args} y con los nombre {kwargs}\")\n",
    "        # y toda la magia que queramos\n",
    "        return funcion_a_decorar(*args, **kwargs)\n",
    "    return wrapper\n",
    "\n",
    "\n",
    "# mi_funcion_decorada = logger(mi_funcion)\n",
    "# print(mi_funcion(param1=\"1\", param2=\"2\"))\n",
    "# print(mi_funcion_decorada(\"1\", \"2\"))\n",
    "\n",
    "@logger\n",
    "def mi_funcion2(param1, param2):\n",
    "    return f\"hola a {param1} y {param2}\"\n",
    "    \n",
    "\n",
    "\n",
    "print(mi_funcion2(\"1\", \"2\"))\n"
   ]
  },
  {
   "cell_type": "markdown",
   "metadata": {},
   "source": [
    "# Classes"
   ]
  },
  {
   "cell_type": "code",
   "execution_count": null,
   "metadata": {},
   "outputs": [],
   "source": [
    "+1"
   ]
  },
  {
   "cell_type": "markdown",
   "metadata": {},
   "source": [
    "# Abstract Classes"
   ]
  },
  {
   "cell_type": "code",
   "execution_count": null,
   "metadata": {},
   "outputs": [],
   "source": []
  },
  {
   "cell_type": "markdown",
   "metadata": {},
   "source": [
    "# Magic Methods"
   ]
  },
  {
   "cell_type": "code",
   "execution_count": null,
   "metadata": {},
   "outputs": [],
   "source": []
  }
 ],
 "metadata": {
  "kernelspec": {
   "display_name": "Python 3",
   "language": "python",
   "name": "python3"
  },
  "language_info": {
   "codemirror_mode": {
    "name": "ipython",
    "version": 3
   },
   "file_extension": ".py",
   "mimetype": "text/x-python",
   "name": "python",
   "nbconvert_exporter": "python",
   "pygments_lexer": "ipython3",
   "version": "3.7.7"
  }
 },
 "nbformat": 4,
 "nbformat_minor": 4
}
